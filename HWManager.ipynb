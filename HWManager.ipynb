{
 "cells": [
  {
   "cell_type": "code",
   "execution_count": 1,
   "metadata": {
    "collapsed": true
   },
   "outputs": [],
   "source": [
    "import os\n",
    "import shutil\n",
    "import pandas as pd"
   ]
  },
  {
   "cell_type": "code",
   "execution_count": 2,
   "metadata": {},
   "outputs": [
    {
     "data": {
      "text/html": [
       "<div>\n",
       "<style>\n",
       "    .dataframe thead tr:only-child th {\n",
       "        text-align: right;\n",
       "    }\n",
       "\n",
       "    .dataframe thead th {\n",
       "        text-align: left;\n",
       "    }\n",
       "\n",
       "    .dataframe tbody tr th {\n",
       "        vertical-align: top;\n",
       "    }\n",
       "</style>\n",
       "<table border=\"1\" class=\"dataframe\">\n",
       "  <thead>\n",
       "    <tr style=\"text-align: right;\">\n",
       "      <th></th>\n",
       "      <th>系級</th>\n",
       "      <th>學號</th>\n",
       "      <th>姓名</th>\n",
       "      <th>ch1</th>\n",
       "      <th>ch2</th>\n",
       "      <th>ch3</th>\n",
       "      <th>ch4</th>\n",
       "      <th>ch5</th>\n",
       "      <th>ch6</th>\n",
       "      <th>ch7</th>\n",
       "      <th>ch8</th>\n",
       "      <th>ch9</th>\n",
       "    </tr>\n",
       "  </thead>\n",
       "  <tbody>\n",
       "  </tbody>\n",
       "</table>\n",
       "</div>"
      ],
      "text/plain": [
       "Empty DataFrame\n",
       "Columns: [系級, 學號, 姓名, ch1, ch2, ch3, ch4, ch5, ch6, ch7, ch8, ch9]\n",
       "Index: []"
      ]
     },
     "execution_count": 2,
     "metadata": {},
     "output_type": "execute_result"
    }
   ],
   "source": [
    "Ch = 2\n",
    "ChCol = \"ch\"+str(Ch)\n",
    "board = pd.read_csv('HWFile/student_Q.csv')\n",
    "board.head(0)"
   ]
  },
  {
   "cell_type": "code",
   "execution_count": 3,
   "metadata": {},
   "outputs": [
    {
     "name": "stdout",
     "output_type": "stream",
     "text": [
      "HWFile\\HW2\\1\n",
      "HWFile\\HW2\\2\n",
      "HWFile\\HW2\\3\n",
      "HWFile\\HW2\\4\n",
      "HWFile\\HW2\\5\n",
      "HWFile\\HW2\\6\n",
      "HWFile\\HW2\\7\n",
      "HWFile\\HW2\\8\n",
      "HWFile\\HW2\\9\n",
      "HWFile\\HW2\\10\n",
      "HWFile\\HW2\\11\n",
      "HWFile\\HW2\\12\n",
      "HWFile\\HW2\\13\n",
      "HWFile\\HW2\\14\n",
      "HWFile\\HW2\\15\n"
     ]
    }
   ],
   "source": [
    "dstpath = \"HWFile\\\\HW{Ch:d}\".format(Ch=Ch)\n",
    "for i in range(1,board[ChCol].max()+1):\n",
    "    Qpath = os.path.join(dstpath,str(i))\n",
    "    print(Qpath)\n",
    "    if not os.path.exists(Qpath):\n",
    "        os.makedirs(Qpath)"
   ]
  },
  {
   "cell_type": "code",
   "execution_count": 4,
   "metadata": {},
   "outputs": [
    {
     "name": "stdout",
     "output_type": "stream",
     "text": [
      "0513213\t0513239\t0552212\t0612201\t0612202\t0612203\t0612204\t0612205\t0612206\t0612207\t0612208\t0612209\t0612210\t0612211\t0612212\t0612213\t0612214\t0612215\t0612216\t0612217\t0612218\t0612219\t0612220\t0612221\t0612222\t0612223\t0612224\t0612225\t0612226\t0612227\t0612228\t0612230\t0612231\t0612232\t0612233\t0612234\t0612235\t0612236\t0612237\t0612238\t0612239\t0612242\t0612243\t0612244\t0612245\t0612246\t0612247\t0612248\t0612249\t0612250\t0612251\t0612252\t0612253\t0612254\t0612255\t0612259\t0612260\t0612261\t0644001\t0644003\t0644009\t0644011\t0644013\t0644016\t0644017\t0644018\t0644019\t0644020\t0644022\t0644024\t0644026\t"
     ]
    }
   ],
   "source": [
    "folderpath = \"HWFile\\\\HW{Ch:d}\\\\HW.1395.HW{Ch:d}.All\".format(Ch=Ch)\n",
    "folderdirs = os.listdir(folderpath)\n",
    "\n",
    "for folder in folderdirs:\n",
    "    #print(folder)\n",
    "    Q = board[board.學號==int(folder[1:7])][ChCol].values[0]\n",
    "    print(folder[:7],end='\\t')\n",
    "    filepath = os.path.join(folderpath,folder)\n",
    "    filedirs = os.listdir(filepath)\n",
    "    for file in filedirs:\n",
    "        srcfile = os.path.join(filepath,file)\n",
    "        dstdir = os.path.join(dstpath,str(Q),file[3:])\n",
    "        shutil.copy(srcfile,dstdir)"
   ]
  },
  {
   "cell_type": "code",
   "execution_count": null,
   "metadata": {
    "collapsed": true
   },
   "outputs": [],
   "source": []
  }
 ],
 "metadata": {
  "kernelspec": {
   "display_name": "Python 3",
   "language": "python",
   "name": "python3"
  },
  "language_info": {
   "codemirror_mode": {
    "name": "ipython",
    "version": 3
   },
   "file_extension": ".py",
   "mimetype": "text/x-python",
   "name": "python",
   "nbconvert_exporter": "python",
   "pygments_lexer": "ipython3",
   "version": "3.5.3"
  }
 },
 "nbformat": 4,
 "nbformat_minor": 2
}
