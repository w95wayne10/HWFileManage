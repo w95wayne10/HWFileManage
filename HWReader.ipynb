{
 "cells": [
  {
   "cell_type": "code",
   "execution_count": 57,
   "metadata": {
    "collapsed": true
   },
   "outputs": [],
   "source": [
    "import os\n",
    "import shutil\n",
    "import pandas as pd\n",
    "from IPython.display import display, clear_output"
   ]
  },
  {
   "cell_type": "code",
   "execution_count": 58,
   "metadata": {},
   "outputs": [
    {
     "data": {
      "text/html": [
       "<div>\n",
       "<style>\n",
       "    .dataframe thead tr:only-child th {\n",
       "        text-align: right;\n",
       "    }\n",
       "\n",
       "    .dataframe thead th {\n",
       "        text-align: left;\n",
       "    }\n",
       "\n",
       "    .dataframe tbody tr th {\n",
       "        vertical-align: top;\n",
       "    }\n",
       "</style>\n",
       "<table border=\"1\" class=\"dataframe\">\n",
       "  <thead>\n",
       "    <tr style=\"text-align: right;\">\n",
       "      <th></th>\n",
       "      <th>系級</th>\n",
       "      <th>學號</th>\n",
       "      <th>姓名</th>\n",
       "      <th>ch1</th>\n",
       "      <th>ch2</th>\n",
       "      <th>ch3</th>\n",
       "      <th>ch4</th>\n",
       "      <th>ch5</th>\n",
       "      <th>ch6</th>\n",
       "      <th>ch7</th>\n",
       "      <th>ch8</th>\n",
       "      <th>ch9</th>\n",
       "    </tr>\n",
       "  </thead>\n",
       "  <tbody>\n",
       "  </tbody>\n",
       "</table>\n",
       "</div>"
      ],
      "text/plain": [
       "Empty DataFrame\n",
       "Columns: [系級, 學號, 姓名, ch1, ch2, ch3, ch4, ch5, ch6, ch7, ch8, ch9]\n",
       "Index: []"
      ]
     },
     "execution_count": 58,
     "metadata": {},
     "output_type": "execute_result"
    }
   ],
   "source": [
    "board = pd.read_csv('HWFile/student_Q.csv')\n",
    "board.head(0)"
   ]
  },
  {
   "cell_type": "code",
   "execution_count": 53,
   "metadata": {},
   "outputs": [],
   "source": [
    "def QStudentList(QNum):\n",
    "    for IDIndex in range(len(board[board.ch1==QNum].學號.values)):\n",
    "        end = '\\n' if j%7==6 else '\\t' \n",
    "        print(IDIndex,\") \",board[board.ch1==QNum].學號.values[IDIndex],end=end)\n",
    "    print(\"\")"
   ]
  },
  {
   "cell_type": "code",
   "execution_count": 56,
   "metadata": {
    "scrolled": false
   },
   "outputs": [],
   "source": [
    "QNum = int(input(\"Q number(0 exit): \"))\n",
    "clear_output()\n",
    "while QNum in range(1,6):\n",
    "    QStudentList(QNum)\n",
    "    IDIndex = int(input(\"Choose studentID(-1 back to choose Q): \"))\n",
    "    clear_output()\n",
    "    \n",
    "    while IDIndex in range(len(board[board.ch1==QNum].學號.values)):\n",
    "        ID = board[board.ch1==QNum].學號.values[IDIndex]\n",
    "        QStudentList(QNum)\n",
    "        \n",
    "        txtfile = \"HWFile\\\\HW1\\\\{Q:d}\\\\01_0{Q:d}_0{id:d}.txt\".format(Q=QNum, id=ID)\n",
    "        print(\"\\n\"+txtfile)\n",
    "        print(\"======================================================================\")\n",
    "        try:\n",
    "            with open(txtfile,'r',encoding='utf-8') as file:\n",
    "                print(file.read())\n",
    "        except:\n",
    "            with open(txtfile,'r') as file:\n",
    "                print(file.read())\n",
    "        print(\"======================================================================\") \n",
    "        \n",
    "        cppfile = \"HWFile\\\\HW1\\\\{Q:d}\\\\01_0{Q:d}_0{id:d}.cpp\".format(Q=QNum, id=ID)\n",
    "        print(\"\\n\"+cppfile)\n",
    "        print(\"======================================================================\") \n",
    "        try:\n",
    "            with open(cppfile,'r') as file:\n",
    "                print(file.read())\n",
    "        except:\n",
    "            with open(cppfile,'r',encoding='utf-8') as file:\n",
    "                print(file.read())\n",
    "        print(\"======================================================================\")\n",
    "        \n",
    "        IDIndex = int(input(\"Choose studentID(-1 back to choose Q): \"))\n",
    "        clear_output()\n",
    "    QNum = int(input(\"Q number(0 exit): \"))\n",
    "    clear_output()"
   ]
  }
 ],
 "metadata": {
  "kernelspec": {
   "display_name": "Python 3",
   "language": "python",
   "name": "python3"
  },
  "language_info": {
   "codemirror_mode": {
    "name": "ipython",
    "version": 3
   },
   "file_extension": ".py",
   "mimetype": "text/x-python",
   "name": "python",
   "nbconvert_exporter": "python",
   "pygments_lexer": "ipython3",
   "version": "3.5.3"
  }
 },
 "nbformat": 4,
 "nbformat_minor": 2
}
